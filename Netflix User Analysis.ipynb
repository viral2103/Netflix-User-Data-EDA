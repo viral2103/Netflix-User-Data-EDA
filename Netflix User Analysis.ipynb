{
 "cells": [
  {
   "cell_type": "code",
   "execution_count": 69,
   "id": "3ae503b9-4987-4c5a-a2da-a47f6d1381f1",
   "metadata": {},
   "outputs": [],
   "source": [
    "import pandas as pd\n",
    "import matplotlib.pyplot as plt"
   ]
  },
  {
   "cell_type": "code",
   "execution_count": 2,
   "id": "ac692956-d81c-4817-983d-d493e4816587",
   "metadata": {},
   "outputs": [
    {
     "data": {
      "text/html": [
       "<div>\n",
       "<style scoped>\n",
       "    .dataframe tbody tr th:only-of-type {\n",
       "        vertical-align: middle;\n",
       "    }\n",
       "\n",
       "    .dataframe tbody tr th {\n",
       "        vertical-align: top;\n",
       "    }\n",
       "\n",
       "    .dataframe thead th {\n",
       "        text-align: right;\n",
       "    }\n",
       "</style>\n",
       "<table border=\"1\" class=\"dataframe\">\n",
       "  <thead>\n",
       "    <tr style=\"text-align: right;\">\n",
       "      <th></th>\n",
       "      <th>User_ID</th>\n",
       "      <th>Name</th>\n",
       "      <th>Age</th>\n",
       "      <th>Country</th>\n",
       "      <th>Subscription_Type</th>\n",
       "      <th>Watch_Time_Hours</th>\n",
       "      <th>Favorite_Genre</th>\n",
       "      <th>Last_Login</th>\n",
       "    </tr>\n",
       "  </thead>\n",
       "  <tbody>\n",
       "    <tr>\n",
       "      <th>0</th>\n",
       "      <td>1</td>\n",
       "      <td>James Martinez</td>\n",
       "      <td>18</td>\n",
       "      <td>France</td>\n",
       "      <td>Premium</td>\n",
       "      <td>80.26</td>\n",
       "      <td>Drama</td>\n",
       "      <td>2024-05-12</td>\n",
       "    </tr>\n",
       "    <tr>\n",
       "      <th>1</th>\n",
       "      <td>2</td>\n",
       "      <td>John Miller</td>\n",
       "      <td>23</td>\n",
       "      <td>USA</td>\n",
       "      <td>Premium</td>\n",
       "      <td>321.75</td>\n",
       "      <td>Sci-Fi</td>\n",
       "      <td>2025-02-05</td>\n",
       "    </tr>\n",
       "    <tr>\n",
       "      <th>2</th>\n",
       "      <td>3</td>\n",
       "      <td>Emma Davis</td>\n",
       "      <td>60</td>\n",
       "      <td>UK</td>\n",
       "      <td>Basic</td>\n",
       "      <td>35.89</td>\n",
       "      <td>Comedy</td>\n",
       "      <td>2025-01-24</td>\n",
       "    </tr>\n",
       "    <tr>\n",
       "      <th>3</th>\n",
       "      <td>4</td>\n",
       "      <td>Emma Miller</td>\n",
       "      <td>44</td>\n",
       "      <td>USA</td>\n",
       "      <td>Premium</td>\n",
       "      <td>261.56</td>\n",
       "      <td>Documentary</td>\n",
       "      <td>2024-03-25</td>\n",
       "    </tr>\n",
       "    <tr>\n",
       "      <th>4</th>\n",
       "      <td>5</td>\n",
       "      <td>Jane Smith</td>\n",
       "      <td>68</td>\n",
       "      <td>USA</td>\n",
       "      <td>Standard</td>\n",
       "      <td>909.30</td>\n",
       "      <td>Drama</td>\n",
       "      <td>2025-01-14</td>\n",
       "    </tr>\n",
       "    <tr>\n",
       "      <th>...</th>\n",
       "      <td>...</td>\n",
       "      <td>...</td>\n",
       "      <td>...</td>\n",
       "      <td>...</td>\n",
       "      <td>...</td>\n",
       "      <td>...</td>\n",
       "      <td>...</td>\n",
       "      <td>...</td>\n",
       "    </tr>\n",
       "    <tr>\n",
       "      <th>24995</th>\n",
       "      <td>24996</td>\n",
       "      <td>David Miller</td>\n",
       "      <td>18</td>\n",
       "      <td>Australia</td>\n",
       "      <td>Premium</td>\n",
       "      <td>183.88</td>\n",
       "      <td>Horror</td>\n",
       "      <td>2025-01-18</td>\n",
       "    </tr>\n",
       "    <tr>\n",
       "      <th>24996</th>\n",
       "      <td>24997</td>\n",
       "      <td>Jane Miller</td>\n",
       "      <td>17</td>\n",
       "      <td>USA</td>\n",
       "      <td>Premium</td>\n",
       "      <td>112.37</td>\n",
       "      <td>Drama</td>\n",
       "      <td>2024-06-29</td>\n",
       "    </tr>\n",
       "    <tr>\n",
       "      <th>24997</th>\n",
       "      <td>24998</td>\n",
       "      <td>Sarah Miller</td>\n",
       "      <td>14</td>\n",
       "      <td>USA</td>\n",
       "      <td>Premium</td>\n",
       "      <td>351.80</td>\n",
       "      <td>Action</td>\n",
       "      <td>2024-10-16</td>\n",
       "    </tr>\n",
       "    <tr>\n",
       "      <th>24998</th>\n",
       "      <td>24999</td>\n",
       "      <td>Michael Williams</td>\n",
       "      <td>71</td>\n",
       "      <td>USA</td>\n",
       "      <td>Basic</td>\n",
       "      <td>655.89</td>\n",
       "      <td>Action</td>\n",
       "      <td>2024-08-27</td>\n",
       "    </tr>\n",
       "    <tr>\n",
       "      <th>24999</th>\n",
       "      <td>25000</td>\n",
       "      <td>James Jones</td>\n",
       "      <td>19</td>\n",
       "      <td>Germany</td>\n",
       "      <td>Premium</td>\n",
       "      <td>207.06</td>\n",
       "      <td>Documentary</td>\n",
       "      <td>2024-04-12</td>\n",
       "    </tr>\n",
       "  </tbody>\n",
       "</table>\n",
       "<p>25000 rows × 8 columns</p>\n",
       "</div>"
      ],
      "text/plain": [
       "       User_ID              Name  Age    Country Subscription_Type  \\\n",
       "0            1    James Martinez   18     France           Premium   \n",
       "1            2       John Miller   23        USA           Premium   \n",
       "2            3        Emma Davis   60         UK             Basic   \n",
       "3            4       Emma Miller   44        USA           Premium   \n",
       "4            5        Jane Smith   68        USA          Standard   \n",
       "...        ...               ...  ...        ...               ...   \n",
       "24995    24996      David Miller   18  Australia           Premium   \n",
       "24996    24997       Jane Miller   17        USA           Premium   \n",
       "24997    24998      Sarah Miller   14        USA           Premium   \n",
       "24998    24999  Michael Williams   71        USA             Basic   \n",
       "24999    25000       James Jones   19    Germany           Premium   \n",
       "\n",
       "       Watch_Time_Hours Favorite_Genre  Last_Login  \n",
       "0                 80.26          Drama  2024-05-12  \n",
       "1                321.75         Sci-Fi  2025-02-05  \n",
       "2                 35.89         Comedy  2025-01-24  \n",
       "3                261.56    Documentary  2024-03-25  \n",
       "4                909.30          Drama  2025-01-14  \n",
       "...                 ...            ...         ...  \n",
       "24995            183.88         Horror  2025-01-18  \n",
       "24996            112.37          Drama  2024-06-29  \n",
       "24997            351.80         Action  2024-10-16  \n",
       "24998            655.89         Action  2024-08-27  \n",
       "24999            207.06    Documentary  2024-04-12  \n",
       "\n",
       "[25000 rows x 8 columns]"
      ]
     },
     "execution_count": 2,
     "metadata": {},
     "output_type": "execute_result"
    }
   ],
   "source": [
    "df=pd.read_csv('netflix_users.csv')\n",
    "df"
   ]
  },
  {
   "cell_type": "code",
   "execution_count": 3,
   "id": "d45f3756-d380-495e-b31e-91ab965a9aaa",
   "metadata": {},
   "outputs": [
    {
     "data": {
      "text/html": [
       "<div>\n",
       "<style scoped>\n",
       "    .dataframe tbody tr th:only-of-type {\n",
       "        vertical-align: middle;\n",
       "    }\n",
       "\n",
       "    .dataframe tbody tr th {\n",
       "        vertical-align: top;\n",
       "    }\n",
       "\n",
       "    .dataframe thead th {\n",
       "        text-align: right;\n",
       "    }\n",
       "</style>\n",
       "<table border=\"1\" class=\"dataframe\">\n",
       "  <thead>\n",
       "    <tr style=\"text-align: right;\">\n",
       "      <th></th>\n",
       "      <th>User_ID</th>\n",
       "      <th>Age</th>\n",
       "      <th>Watch_Time_Hours</th>\n",
       "    </tr>\n",
       "  </thead>\n",
       "  <tbody>\n",
       "    <tr>\n",
       "      <th>count</th>\n",
       "      <td>25000.000000</td>\n",
       "      <td>25000.000000</td>\n",
       "      <td>25000.000000</td>\n",
       "    </tr>\n",
       "    <tr>\n",
       "      <th>mean</th>\n",
       "      <td>12500.500000</td>\n",
       "      <td>46.482880</td>\n",
       "      <td>500.468858</td>\n",
       "    </tr>\n",
       "    <tr>\n",
       "      <th>std</th>\n",
       "      <td>7217.022701</td>\n",
       "      <td>19.594861</td>\n",
       "      <td>286.381815</td>\n",
       "    </tr>\n",
       "    <tr>\n",
       "      <th>min</th>\n",
       "      <td>1.000000</td>\n",
       "      <td>13.000000</td>\n",
       "      <td>0.120000</td>\n",
       "    </tr>\n",
       "    <tr>\n",
       "      <th>25%</th>\n",
       "      <td>6250.750000</td>\n",
       "      <td>29.000000</td>\n",
       "      <td>256.567500</td>\n",
       "    </tr>\n",
       "    <tr>\n",
       "      <th>50%</th>\n",
       "      <td>12500.500000</td>\n",
       "      <td>46.000000</td>\n",
       "      <td>501.505000</td>\n",
       "    </tr>\n",
       "    <tr>\n",
       "      <th>75%</th>\n",
       "      <td>18750.250000</td>\n",
       "      <td>63.000000</td>\n",
       "      <td>745.732500</td>\n",
       "    </tr>\n",
       "    <tr>\n",
       "      <th>max</th>\n",
       "      <td>25000.000000</td>\n",
       "      <td>80.000000</td>\n",
       "      <td>999.990000</td>\n",
       "    </tr>\n",
       "  </tbody>\n",
       "</table>\n",
       "</div>"
      ],
      "text/plain": [
       "            User_ID           Age  Watch_Time_Hours\n",
       "count  25000.000000  25000.000000      25000.000000\n",
       "mean   12500.500000     46.482880        500.468858\n",
       "std     7217.022701     19.594861        286.381815\n",
       "min        1.000000     13.000000          0.120000\n",
       "25%     6250.750000     29.000000        256.567500\n",
       "50%    12500.500000     46.000000        501.505000\n",
       "75%    18750.250000     63.000000        745.732500\n",
       "max    25000.000000     80.000000        999.990000"
      ]
     },
     "execution_count": 3,
     "metadata": {},
     "output_type": "execute_result"
    }
   ],
   "source": [
    "df.describe()"
   ]
  },
  {
   "cell_type": "markdown",
   "id": "322ccdb8-d154-43fd-93d0-9d15993c04f3",
   "metadata": {},
   "source": [
    "<b><h2>User Behaviour Analysis </h2></b>"
   ]
  },
  {
   "cell_type": "markdown",
   "id": "d684fe17-7890-4819-a86d-05df7c355565",
   "metadata": {},
   "source": [
    "<p>1.\tWhat is the average watch time for each subscription type (Basic, Standard, Premium)?</p>"
   ]
  },
  {
   "cell_type": "code",
   "execution_count": 4,
   "id": "4948903b-792a-412a-ae8c-8a3570e70314",
   "metadata": {},
   "outputs": [
    {
     "data": {
      "text/plain": [
       "Subscription_Type\n",
       "Basic       502.994617\n",
       "Premium     501.409387\n",
       "Standard    496.949376\n",
       "Name: Watch_Time_Hours, dtype: float64"
      ]
     },
     "execution_count": 4,
     "metadata": {},
     "output_type": "execute_result"
    }
   ],
   "source": [
    "df.groupby('Subscription_Type')['Watch_Time_Hours'].mean()"
   ]
  },
  {
   "cell_type": "markdown",
   "id": "b26b62a3-edb7-4d16-a193-0f90d6acf56c",
   "metadata": {},
   "source": [
    "<p>2.\tWhich age group spends the most time watching Netflix?</p>"
   ]
  },
  {
   "cell_type": "code",
   "execution_count": 5,
   "id": "7853d623-26b2-4e14-b11c-2e66fe7d4b49",
   "metadata": {},
   "outputs": [
    {
     "name": "stderr",
     "output_type": "stream",
     "text": [
      "C:\\Users\\Viral Shah\\AppData\\Local\\Temp\\ipykernel_19284\\784053933.py:7: FutureWarning: The default of observed=False is deprecated and will be changed to True in a future version of pandas. Pass observed=False to retain current behavior or observed=True to adopt the future default and silence this warning.\n",
      "  df.groupby('Age_Group')['Watch_Time_Hours'].mean()\n"
     ]
    },
    {
     "data": {
      "text/plain": [
       "Age_Group\n",
       "10-20    492.794896\n",
       "21-30    499.102570\n",
       "31-40    506.533787\n",
       "41-50    496.595258\n",
       "51-60    498.723507\n",
       "61-70    503.026071\n",
       "71-80    505.165006\n",
       "Name: Watch_Time_Hours, dtype: float64"
      ]
     },
     "execution_count": 5,
     "metadata": {},
     "output_type": "execute_result"
    }
   ],
   "source": [
    "# Create age groups\n",
    "bins = [10, 20, 30, 40, 50, 60, 70, 80]\n",
    "labels = ['10-20', '21-30', '31-40', '41-50', '51-60', '61-70', '71-80']\n",
    "df['Age_Group'] = pd.cut(df['Age'], bins=bins, labels=labels)\n",
    "\n",
    "# Find the average watch time for each age group\n",
    "df.groupby('Age_Group')['Watch_Time_Hours'].mean()\n"
   ]
  },
  {
   "cell_type": "markdown",
   "id": "11f5c245-9f71-4e9e-8133-7739caee3aa7",
   "metadata": {},
   "source": [
    "<p>3.\tWhat is the most popular genre by country?</p>"
   ]
  },
  {
   "cell_type": "code",
   "execution_count": 6,
   "id": "1a1f68b8-398a-4b6f-b551-62d0c5458c13",
   "metadata": {},
   "outputs": [
    {
     "data": {
      "text/plain": [
       "Country\n",
       "Australia    Documentary\n",
       "Brazil           Romance\n",
       "Canada            Action\n",
       "France       Documentary\n",
       "Germany           Sci-Fi\n",
       "India            Romance\n",
       "Japan        Documentary\n",
       "Mexico       Documentary\n",
       "UK                Horror\n",
       "USA          Documentary\n",
       "Name: Favorite_Genre, dtype: object"
      ]
     },
     "execution_count": 6,
     "metadata": {},
     "output_type": "execute_result"
    }
   ],
   "source": [
    "df.groupby('Country')['Favorite_Genre'].agg(lambda x: x.value_counts().idxmax())\n",
    "# df.groupby('Country')['Favorite_Genre'].value_counts().idxmax()\n"
   ]
  },
  {
   "cell_type": "markdown",
   "id": "6ef3dda3-fc3b-4329-b5a6-c7fbb6d1b891",
   "metadata": {},
   "source": [
    "<p>4.\tHow does watch time vary across different countries?</p>"
   ]
  },
  {
   "cell_type": "code",
   "execution_count": 7,
   "id": "7365b489-6db8-45d2-aff2-159be7d0ab90",
   "metadata": {},
   "outputs": [
    {
     "data": {
      "text/plain": [
       "Country\n",
       "Australia    1238500.79 Hour\n",
       "Brazil       1261391.37 Hour\n",
       "Canada       1273443.87 Hour\n",
       "France       1251435.06 Hour\n",
       "Germany      1259665.39 Hour\n",
       "India        1233067.52 Hour\n",
       "Japan         1215774.5 Hour\n",
       "Mexico       1237744.23 Hour\n",
       "UK           1285800.67 Hour\n",
       "USA          1254898.05 Hour\n",
       "Name: Watch_Time_Hours, dtype: object"
      ]
     },
     "execution_count": 7,
     "metadata": {},
     "output_type": "execute_result"
    }
   ],
   "source": [
    "df.groupby('Country')['Watch_Time_Hours'].sum().astype(str)+ ' Hour'"
   ]
  },
  {
   "cell_type": "markdown",
   "id": "037d7f0a-beb6-4654-be6f-b44b90bcaa8f",
   "metadata": {},
   "source": [
    "<p>5.\tWhat is the average watch time for users with Premium vs Basic subscriptions?</p>"
   ]
  },
  {
   "cell_type": "code",
   "execution_count": 8,
   "id": "b776c1a8-2c6b-4250-bfb3-aa9b953e78b9",
   "metadata": {},
   "outputs": [
    {
     "data": {
      "text/plain": [
       "Subscription_Type\n",
       "Basic      502.994617\n",
       "Premium    501.409387\n",
       "Name: Watch_Time_Hours, dtype: float64"
      ]
     },
     "execution_count": 8,
     "metadata": {},
     "output_type": "execute_result"
    }
   ],
   "source": [
    "AvgWatchTime = df[df['Subscription_Type'].isin(['Premium', 'Basic'])]\n",
    "AvgWatchTime.groupby('Subscription_Type')['Watch_Time_Hours'].mean()"
   ]
  },
  {
   "cell_type": "markdown",
   "id": "8f8650ea-955e-412a-a627-2ce5f737b502",
   "metadata": {},
   "source": [
    "<b><h2>Subscription Type Analysis</h2></b>"
   ]
  },
  {
   "cell_type": "markdown",
   "id": "498d881f-4f58-4ed0-94c9-a5302aca429f",
   "metadata": {},
   "source": [
    "<p>6.Which subscription type is more popular among different age groups?</p>"
   ]
  },
  {
   "cell_type": "code",
   "execution_count": 9,
   "id": "d6dbaf8d-5966-4f3b-b02a-57fc59b5935a",
   "metadata": {},
   "outputs": [
    {
     "name": "stderr",
     "output_type": "stream",
     "text": [
      "C:\\Users\\Viral Shah\\AppData\\Local\\Temp\\ipykernel_19284\\571692609.py:7: FutureWarning: The default of observed=False is deprecated and will be changed to True in a future version of pandas. Pass observed=False to retain current behavior or observed=True to adopt the future default and silence this warning.\n",
      "  df.groupby('Age_Group')['Subscription_Type'].value_counts()\n"
     ]
    },
    {
     "data": {
      "text/plain": [
       "Age_Group    Subscription_Type\n",
       "Teen         Basic                 751\n",
       "             Standard              724\n",
       "             Premium               713\n",
       "Young Adult  Basic                1509\n",
       "             Premium              1497\n",
       "             Standard             1471\n",
       "Adult        Premium              1856\n",
       "             Basic                1827\n",
       "             Standard             1797\n",
       "Middle Age   Premium              1887\n",
       "             Basic                1843\n",
       "             Standard             1801\n",
       "Senior       Premium              2449\n",
       "             Standard             2449\n",
       "             Basic                2426\n",
       "Name: count, dtype: int64"
      ]
     },
     "execution_count": 9,
     "metadata": {},
     "output_type": "execute_result"
    }
   ],
   "source": [
    "# Creating age groups\n",
    "bins = [0, 18, 30, 45, 60, 100]\n",
    "labels = ['Teen', 'Young Adult', 'Adult', 'Middle Age', 'Senior']\n",
    "df['Age_Group'] = pd.cut(df['Age'], bins=bins, labels=labels)\n",
    "\n",
    "# Counting subscription types by age group\n",
    "df.groupby('Age_Group')['Subscription_Type'].value_counts()\n"
   ]
  },
  {
   "cell_type": "markdown",
   "id": "16c8dc68-829d-4294-9723-b295f0becb7e",
   "metadata": {},
   "source": [
    "<p>7.What percentage of users are on Premium, Standard, and Basic subscriptions?</p>"
   ]
  },
  {
   "cell_type": "code",
   "execution_count": 10,
   "id": "d2fb06a2-cbcc-477d-a7e4-81bec726cc83",
   "metadata": {},
   "outputs": [
    {
     "data": {
      "text/plain": [
       "Subscription_Type\n",
       "Premium     33.608\n",
       "Basic       33.424\n",
       "Standard    32.968\n",
       "Name: proportion, dtype: float64"
      ]
     },
     "execution_count": 10,
     "metadata": {},
     "output_type": "execute_result"
    }
   ],
   "source": [
    "df['Subscription_Type'].value_counts(normalize=True) * 100"
   ]
  },
  {
   "cell_type": "markdown",
   "id": "457d3bca-fdaa-4b78-86e4-7a4a216526bf",
   "metadata": {},
   "source": [
    "<p>8.How does the watch time differ between Premium and Basic users?</p>"
   ]
  },
  {
   "cell_type": "code",
   "execution_count": 11,
   "id": "35b01059-4e99-4512-8bd3-9deef9a1d11a",
   "metadata": {},
   "outputs": [
    {
     "data": {
      "text/plain": [
       "9818.650000000373"
      ]
     },
     "execution_count": 11,
     "metadata": {},
     "output_type": "execute_result"
    }
   ],
   "source": [
    "WatchTimeDifference=df.groupby('Subscription_Type')['Watch_Time_Hours'].sum()\n",
    "WatchTimeDifference['Premium'] - WatchTimeDifference['Basic']\n",
    "\n"
   ]
  },
  {
   "cell_type": "markdown",
   "id": "23c32d20-34fa-4db4-b5a3-a1d72a53fe5a",
   "metadata": {},
   "source": [
    "<p>9.What is the average watch time for each subscription type over time?</p>"
   ]
  },
  {
   "cell_type": "code",
   "execution_count": 12,
   "id": "1c2791ad-9fa8-4269-a299-6fab946cd322",
   "metadata": {},
   "outputs": [
    {
     "data": {
      "text/plain": [
       "Subscription_Type\n",
       "Basic       502.994617\n",
       "Premium     501.409387\n",
       "Standard    496.949376\n",
       "Name: Watch_Time_Hours, dtype: float64"
      ]
     },
     "execution_count": 12,
     "metadata": {},
     "output_type": "execute_result"
    }
   ],
   "source": [
    "df.groupby('Subscription_Type')['Watch_Time_Hours'].mean()"
   ]
  },
  {
   "cell_type": "markdown",
   "id": "c6e56ccf-3ba1-4ab0-8f57-eb46e73085fa",
   "metadata": {},
   "source": [
    "<b><h2>Demographic Analysis</h2></b>"
   ]
  },
  {
   "cell_type": "markdown",
   "id": "e5bf7933-10e5-46b4-bbc8-71f4f4269ef5",
   "metadata": {},
   "source": [
    "<p>10.\tWhat is the age distribution of Netflix users?</p>"
   ]
  },
  {
   "cell_type": "code",
   "execution_count": 13,
   "id": "f6baacba-e978-49b5-82f9-5a02fd1d31aa",
   "metadata": {},
   "outputs": [
    {
     "name": "stderr",
     "output_type": "stream",
     "text": [
      "C:\\Users\\Viral Shah\\AppData\\Local\\Temp\\ipykernel_19284\\4162333058.py:1: FutureWarning: The default of observed=False is deprecated and will be changed to True in a future version of pandas. Pass observed=False to retain current behavior or observed=True to adopt the future default and silence this warning.\n",
      "  df.groupby('Age_Group')['User_ID'].count()\n"
     ]
    },
    {
     "data": {
      "text/plain": [
       "Age_Group\n",
       "Teen           2188\n",
       "Young Adult    4477\n",
       "Adult          5480\n",
       "Middle Age     5531\n",
       "Senior         7324\n",
       "Name: User_ID, dtype: int64"
      ]
     },
     "execution_count": 13,
     "metadata": {},
     "output_type": "execute_result"
    }
   ],
   "source": [
    "df.groupby('Age_Group')['User_ID'].count()"
   ]
  },
  {
   "cell_type": "markdown",
   "id": "5d1e4509-2c95-4e4c-b4ea-e219bad39466",
   "metadata": {},
   "source": [
    "<p>11.\tWhich country has the highest number of active users?</p>"
   ]
  },
  {
   "cell_type": "code",
   "execution_count": 14,
   "id": "b64c3e88-1a1c-4e06-9d30-6b85e5857e93",
   "metadata": {},
   "outputs": [
    {
     "data": {
      "text/plain": [
       "Country\n",
       "Australia    1238500.79\n",
       "Brazil       1261391.37\n",
       "Canada       1273443.87\n",
       "France       1251435.06\n",
       "Germany      1259665.39\n",
       "India        1233067.52\n",
       "Japan        1215774.50\n",
       "Mexico       1237744.23\n",
       "UK           1285800.67\n",
       "USA          1254898.05\n",
       "Name: Watch_Time_Hours, dtype: float64"
      ]
     },
     "execution_count": 14,
     "metadata": {},
     "output_type": "execute_result"
    }
   ],
   "source": [
    "df.groupby('Country')['Watch_Time_Hours'].sum()"
   ]
  },
  {
   "cell_type": "markdown",
   "id": "86e152ca-fa44-457a-bee2-038bda40928a",
   "metadata": {},
   "source": [
    "<P>12.\tWhat is the average watch time for users from the USA, UK, France, and Germany?</p>"
   ]
  },
  {
   "cell_type": "code",
   "execution_count": 15,
   "id": "dc0a77ea-4445-445c-9295-1e13a392955e",
   "metadata": {},
   "outputs": [
    {
     "data": {
      "text/plain": [
       "Country\n",
       "USA        501.357591\n",
       "UK         496.065073\n",
       "France     506.039248\n",
       "Germany    494.568272\n",
       "Name: Watch_Time_Hours, dtype: float64"
      ]
     },
     "execution_count": 15,
     "metadata": {},
     "output_type": "execute_result"
    }
   ],
   "source": [
    "df.groupby('Country')['Watch_Time_Hours'].mean().loc[['USA','UK','France','Germany']]\n"
   ]
  },
  {
   "cell_type": "markdown",
   "id": "2b54c522-2727-4fc8-98a2-3771b04a3c1b",
   "metadata": {},
   "source": [
    "<p>13.\tAre older users more likely to have a Basic subscription?</p>"
   ]
  },
  {
   "cell_type": "code",
   "execution_count": 16,
   "id": "1df12d27-b4c5-4af0-b1bc-49a449c866be",
   "metadata": {},
   "outputs": [
    {
     "name": "stderr",
     "output_type": "stream",
     "text": [
      "C:\\Users\\Viral Shah\\AppData\\Local\\Temp\\ipykernel_19284\\2161983214.py:1: FutureWarning: The default of observed=False is deprecated and will be changed to True in a future version of pandas. Pass observed=False to retain current behavior or observed=True to adopt the future default and silence this warning.\n",
      "  df.groupby(['Age_Group', 'Subscription_Type'])['User_ID'].count()\n"
     ]
    },
    {
     "data": {
      "text/plain": [
       "Age_Group    Subscription_Type\n",
       "Teen         Basic                 751\n",
       "             Premium               713\n",
       "             Standard              724\n",
       "Young Adult  Basic                1509\n",
       "             Premium              1497\n",
       "             Standard             1471\n",
       "Adult        Basic                1827\n",
       "             Premium              1856\n",
       "             Standard             1797\n",
       "Middle Age   Basic                1843\n",
       "             Premium              1887\n",
       "             Standard             1801\n",
       "Senior       Basic                2426\n",
       "             Premium              2449\n",
       "             Standard             2449\n",
       "Name: User_ID, dtype: int64"
      ]
     },
     "execution_count": 16,
     "metadata": {},
     "output_type": "execute_result"
    }
   ],
   "source": [
    "df.groupby(['Age_Group', 'Subscription_Type'])['User_ID'].count()"
   ]
  },
  {
   "cell_type": "markdown",
   "id": "c9715f59-1984-4899-97b5-c2c332712071",
   "metadata": {},
   "source": [
    "<b><h2>Time-Based Analysis</h2></b>"
   ]
  },
  {
   "cell_type": "markdown",
   "id": "b3fd1432-a885-4f30-8541-671764991c0c",
   "metadata": {},
   "source": [
    "<p>14.\tWhat is the monthly active user count based on the 'Last_Login' date?</p>"
   ]
  },
  {
   "cell_type": "code",
   "execution_count": 27,
   "id": "6eb879d9-e0c7-42c6-ab91-7808e74c0d49",
   "metadata": {},
   "outputs": [
    {
     "data": {
      "text/plain": [
       "Month_Year\n",
       "2024-03    1564\n",
       "2024-04    2149\n",
       "2024-05    2112\n",
       "2024-06    1998\n",
       "2024-07    2081\n",
       "2024-08    2082\n",
       "2024-09    2074\n",
       "2024-10    2151\n",
       "2024-11    2009\n",
       "2024-12    2150\n",
       "2025-01    2111\n",
       "2025-02    1973\n",
       "2025-03     546\n",
       "Freq: M, Name: User_ID, dtype: int64"
      ]
     },
     "execution_count": 27,
     "metadata": {},
     "output_type": "execute_result"
    }
   ],
   "source": [
    "df['Last_Login'] = pd.to_datetime(df['Last_Login'])\n",
    "\n",
    "df['Month_Year'] = df['Last_Login'].dt.to_period('M')\n",
    "\n",
    "df.groupby('Month_Year')['User_ID'].count()"
   ]
  },
  {
   "cell_type": "code",
   "execution_count": 35,
   "id": "04f2cbd3-7289-4861-8d7c-7f209d4dfceb",
   "metadata": {},
   "outputs": [
    {
     "data": {
      "text/plain": [
       "Day_Type\n",
       "Weekday    8882750.75\n",
       "Weekend    3628970.70\n",
       "Name: Watch_Time_Hours, dtype: float64"
      ]
     },
     "execution_count": 35,
     "metadata": {},
     "output_type": "execute_result"
    }
   ],
   "source": [
    "df['Last_Login'] =pd.to_datetime(df['Last_Login'])\n",
    "df['day']=df['Last_Login'].dt.day_name()\n",
    "df['Day_Type'] = df['day'].apply(lambda x: 'Weekend' if x in ['Saturday', 'Sunday'] else 'Weekday')\n",
    "df.groupby('Day_Type')['Watch_Time_Hours'].sum()"
   ]
  },
  {
   "cell_type": "markdown",
   "id": "56330cb0-75ae-4972-86e0-95a1e24af269",
   "metadata": {},
   "source": [
    "<p>16.\tHow has user activity changed from 2024 to 2025?</p>"
   ]
  },
  {
   "cell_type": "code",
   "execution_count": 56,
   "id": "ccc9205b-2ba3-41db-8eeb-202930e0dcb0",
   "metadata": {},
   "outputs": [
    {
     "data": {
      "text/plain": [
       "year\n",
       "2024    20370\n",
       "2025     4630\n",
       "Name: User_ID, dtype: int64"
      ]
     },
     "execution_count": 56,
     "metadata": {},
     "output_type": "execute_result"
    }
   ],
   "source": [
    "df['year']=df['Last_Login'].dt.year\n",
    "df.groupby('year')['User_ID'].count()"
   ]
  },
  {
   "cell_type": "markdown",
   "id": "c56582b5-c7be-4f97-b85b-6438c0704c84",
   "metadata": {},
   "source": [
    "<p>17.\tWhich month had the highest average watch time?</p>"
   ]
  },
  {
   "cell_type": "code",
   "execution_count": 61,
   "id": "0f8b66b5-ed38-4a2b-b690-16bfe1a4945a",
   "metadata": {},
   "outputs": [
    {
     "data": {
      "text/plain": [
       "Month\n",
       "1     495.904893\n",
       "2     502.223360\n",
       "3     502.906573\n",
       "4     496.361643\n",
       "5     496.523594\n",
       "6     489.076271\n",
       "7     498.883354\n",
       "8     495.393098\n",
       "9     503.844672\n",
       "10    502.504240\n",
       "11    508.952887\n",
       "12    512.745005\n",
       "Name: Watch_Time_Hours, dtype: float64"
      ]
     },
     "execution_count": 61,
     "metadata": {},
     "output_type": "execute_result"
    }
   ],
   "source": [
    "df['Month']=df['Last_Login'].dt.month\n",
    "df.groupby('Month')['Watch_Time_Hours'].mean()"
   ]
  },
  {
   "cell_type": "markdown",
   "id": "7b458c7d-34d2-4b0f-adf4-470eceb7696c",
   "metadata": {},
   "source": [
    "<b><h2>User Retention & Engagement</h2></b>"
   ]
  },
  {
   "cell_type": "markdown",
   "id": "71e163bc-d464-40df-808c-4b314efb8bc1",
   "metadata": {},
   "source": [
    "<p>18.\tWhat is the average watch time for users who log in frequently?</p>"
   ]
  },
  {
   "cell_type": "code",
   "execution_count": 65,
   "id": "7e3d9438-81e7-431d-b188-6ee4782e3b70",
   "metadata": {},
   "outputs": [
    {
     "name": "stdout",
     "output_type": "stream",
     "text": [
      "Average Watch Time for Frequent Users: nan\n"
     ]
    }
   ],
   "source": [
    "# Step 1: Count how many times each user logged in\n",
    "login_count = df['User_ID'].value_counts()\n",
    "\n",
    "# Step 2: Filter users who logged in more than 3 times (frequent users)\n",
    "frequent_users = login_count[login_count > 3].index\n",
    "\n",
    "# Step 3: Filter the original DataFrame for only frequent users\n",
    "frequent_users_data = df[df['User_ID'].isin(frequent_users)]\n",
    "\n",
    "# Step 4: Calculate the average watch time of these frequent users\n",
    "average_watch_time = frequent_users_data['Watch_Time_Hours'].mean()\n",
    "\n",
    "# Step 5: Print the result\n",
    "print(\"Average Watch Time for Frequent Users:\", average_watch_time)\n"
   ]
  },
  {
   "cell_type": "markdown",
   "id": "e82d74d5-eeab-44b3-889d-0e4b92b1cfef",
   "metadata": {},
   "source": [
    "<p>19.\tWhat percentage of users churned (stopped watching) after a specific period?</p>"
   ]
  },
  {
   "cell_type": "code",
   "execution_count": 68,
   "id": "c9125b95-649e-431c-97e9-37c890432e31",
   "metadata": {},
   "outputs": [
    {
     "name": "stdout",
     "output_type": "stream",
     "text": [
      "Churn Rate: 74.72 %\n"
     ]
    }
   ],
   "source": [
    "import pandas as pd\n",
    "\n",
    "# Step 1: Convert 'Last_Login' to datetime\n",
    "df['Last_Login'] = pd.to_datetime(df['Last_Login'])\n",
    "\n",
    "# Step 2: Find the latest login date in the dataset\n",
    "latest_date = df['Last_Login'].max()\n",
    "\n",
    "# Step 3: Define churn period (3 months from the latest login date)\n",
    "churn_period = latest_date - pd.DateOffset(months=3)\n",
    "\n",
    "# Step 4: Identify churned users (users who haven't logged in for the last 3 months)\n",
    "churned_users = df[df['Last_Login'] < churn_period]\n",
    "\n",
    "# Step 5: Calculate churn rate\n",
    "churn_rate = (len(churned_users) / len(df)) * 100\n",
    "\n",
    "# Step 6: Print the result\n",
    "print(\"Churn Rate:\", round(churn_rate, 2), \"%\")\n"
   ]
  },
  {
   "cell_type": "raw",
   "id": "15a57e5a-c788-4788-a8d0-dd12e39b78e8",
   "metadata": {},
   "source": []
  },
  {
   "cell_type": "markdown",
   "id": "2445fbf9-5cd7-463d-9355-550a479833f9",
   "metadata": {},
   "source": [
    "<b><h2>Visualizations using Matplotlib</h2></b>"
   ]
  },
  {
   "cell_type": "markdown",
   "id": "6008b6bd-5e66-42c4-8880-74178ef91988",
   "metadata": {},
   "source": [
    "<p>Bar plot: Watch time by subscription type</p>"
   ]
  },
  {
   "cell_type": "code",
   "execution_count": 76,
   "id": "0b86232a-d1dd-4fe3-a095-e79eeb25666f",
   "metadata": {},
   "outputs": [
    {
     "data": {
      "image/png": "[encoded data removed]",
      "text/plain": [
       "<Figure size 640x480 with 1 Axes>"
      ]
     },
     "metadata": {},
     "output_type": "display_data"
    }
   ],
   "source": [
    "x = df.groupby('Subscription_Type')['Watch_Time_Hours'].sum().index\n",
    "y = df.groupby('Subscription_Type')['Watch_Time_Hours'].sum().values\n",
    "\n",
    "plt.plot(x, y, marker='o', color='orange')\n",
    "plt.xlabel('Subscription Type')\n",
    "plt.ylabel('Watch Time (in Hours)')\n",
    "plt.title('Watch Time by Subscription Type')\n",
    "plt.show()"
   ]
  },
  {
   "cell_type": "markdown",
   "id": "fca7889e-bbcb-48fd-8f34-bcee584503dd",
   "metadata": {},
   "source": [
    "<p>Pie chart: Subscription type distribution</p>"
   ]
  },
  {
   "cell_type": "code",
   "execution_count": 92,
   "id": "a3c1ef35-7836-4139-b892-a1578e6fbc6d",
   "metadata": {},
   "outputs": [
    {
     "data": {
      "image/png": "[encoded data removed]",
      "text/plain": [
       "<Figure size 640x480 with 1 Axes>"
      ]
     },
     "metadata": {},
     "output_type": "display_data"
    }
   ],
   "source": [
    "sub_count=df['Subscription_Type'].value_counts()\n",
    "\n",
    "plt.pie(sub_count, labels=sub_count.index, autopct='%1.1f%%', startangle=90, colors=['#FF6347', '#FFD700', '#4682B4'])\n",
    "plt.title('Subscription Type Distribution')\n",
    "plt.show()\n"
   ]
  },
  {
   "cell_type": "markdown",
   "id": "8ccc9498-280d-4181-ac80-ac60acdf433c",
   "metadata": {},
   "source": [
    "<p>Line plot: Watch time trend over months</p>"
   ]
  },
  {
   "cell_type": "code",
   "execution_count": 107,
   "id": "e49e3b57-77de-4d5b-b272-5bfae19a5ddc",
   "metadata": {},
   "outputs": [
    {
     "data": {
      "image/png": "[encoded data removed]",
      "text/plain": [
       "<Figure size 640x480 with 1 Axes>"
      ]
     },
     "metadata": {},
     "output_type": "display_data"
    }
   ],
   "source": [
    "df['month'] = df['Last_Login'].dt.month\n",
    "\n",
    "# Group by month and sum watch time\n",
    "monthly_watch_time = df.groupby('month')['Watch_Time_Hours'].sum()\n",
    "\n",
    "# Plot line chart\n",
    "plt.plot(monthly_watch_time.index, monthly_watch_time.values, marker='o', color='blue', linestyle='-')\n",
    "plt.xlabel('Month')\n",
    "plt.ylabel('Total Watch Time (in Hours)')\n",
    "plt.title('Watch Time Trend Over Months')\n",
    "plt.xticks(range(1, 13))  # Show months from 1 to 12\n",
    "plt.show()"
   ]
  },
  {
   "cell_type": "markdown",
   "id": "c507b46f-6d57-4de2-a24d-171ddba801d3",
   "metadata": {},
   "source": [
    "<p>Histogram: Age distribution of users</p>"
   ]
  },
  {
   "cell_type": "code",
   "execution_count": 121,
   "id": "125be8d8-e34d-4ee5-82c4-ccc24c7e6fdb",
   "metadata": {},
   "outputs": [
    {
     "data": {
      "image/png": "[encoded data removed]",
      "text/plain": [
       "<Figure size 640x480 with 1 Axes>"
      ]
     },
     "metadata": {},
     "output_type": "display_data"
    }
   ],
   "source": [
    "df['user'] = df['Age'].count\n",
    "plt.hist(df['Age'], bins=10, color='purple', edgecolor='black')\n",
    "plt.xlabel('Age')\n",
    "plt.ylabel('Number of Users')\n",
    "plt.title('Age Distribution of Users')\n",
    "plt.grid(True)\n",
    "plt.show()"
   ]
  }
 ],
 "metadata": {
  "kernelspec": {
   "display_name": "Python 3 (ipykernel)",
   "language": "python",
   "name": "python3"
  },
  "language_info": {
   "codemirror_mode": {
    "name": "ipython",
    "version": 3
   },
   "file_extension": ".py",
   "mimetype": "text/x-python",
   "name": "python",
   "nbconvert_exporter": "python",
   "pygments_lexer": "ipython3",
   "version": "3.12.7"
  }
 },
 "nbformat": 4,
 "nbformat_minor": 5
}
